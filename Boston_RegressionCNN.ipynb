{
  "nbformat": 4,
  "nbformat_minor": 0,
  "metadata": {
    "colab": {
      "provenance": []
    },
    "kernelspec": {
      "name": "python3",
      "display_name": "Python 3"
    },
    "language_info": {
      "name": "python"
    }
  },
  "cells": [
    {
      "cell_type": "code",
      "execution_count": 1,
      "metadata": {
        "id": "Jgf0cV_OA61j"
      },
      "outputs": [],
      "source": [
        "from sklearn.datasets import load_boston"
      ]
    },
    {
      "cell_type": "code",
      "source": [
        "boston = load_boston()\n",
        "x,y = boston.data , boston.target\n",
        "print(x.shape)\n",
        "print(y.shape)"
      ],
      "metadata": {
        "colab": {
          "base_uri": "https://localhost:8080/"
        },
        "id": "7oZQKAj5C94N",
        "outputId": "b491eab7-b9d9-4f8a-8221-eeb2fcca0df3"
      },
      "execution_count": 3,
      "outputs": [
        {
          "output_type": "stream",
          "name": "stdout",
          "text": [
            "(506, 13)\n",
            "(506,)\n"
          ]
        },
        {
          "output_type": "stream",
          "name": "stderr",
          "text": [
            "/usr/local/lib/python3.7/dist-packages/sklearn/utils/deprecation.py:87: FutureWarning: Function load_boston is deprecated; `load_boston` is deprecated in 1.0 and will be removed in 1.2.\n",
            "\n",
            "    The Boston housing prices dataset has an ethical problem. You can refer to\n",
            "    the documentation of this function for further details.\n",
            "\n",
            "    The scikit-learn maintainers therefore strongly discourage the use of this\n",
            "    dataset unless the purpose of the code is to study and educate about\n",
            "    ethical issues in data science and machine learning.\n",
            "\n",
            "    In this special case, you can fetch the dataset from the original\n",
            "    source::\n",
            "\n",
            "        import pandas as pd\n",
            "        import numpy as np\n",
            "\n",
            "\n",
            "        data_url = \"http://lib.stat.cmu.edu/datasets/boston\"\n",
            "        raw_df = pd.read_csv(data_url, sep=\"\\s+\", skiprows=22, header=None)\n",
            "        data = np.hstack([raw_df.values[::2, :], raw_df.values[1::2, :2]])\n",
            "        target = raw_df.values[1::2, 2]\n",
            "\n",
            "    Alternative datasets include the California housing dataset (i.e.\n",
            "    :func:`~sklearn.datasets.fetch_california_housing`) and the Ames housing\n",
            "    dataset. You can load the datasets as follows::\n",
            "\n",
            "        from sklearn.datasets import fetch_california_housing\n",
            "        housing = fetch_california_housing()\n",
            "\n",
            "    for the California housing dataset and::\n",
            "\n",
            "        from sklearn.datasets import fetch_openml\n",
            "        housing = fetch_openml(name=\"house_prices\", as_frame=True)\n",
            "\n",
            "    for the Ames housing dataset.\n",
            "    \n",
            "  warnings.warn(msg, category=FutureWarning)\n"
          ]
        }
      ]
    },
    {
      "cell_type": "code",
      "source": [
        "x = x.reshape(x.shape[0], x.shape[1] ,1)\n",
        "print(x.shape)"
      ],
      "metadata": {
        "colab": {
          "base_uri": "https://localhost:8080/"
        },
        "id": "mfd86giXDgEk",
        "outputId": "7796150c-4e76-43bd-ba63-d278f8175d23"
      },
      "execution_count": 5,
      "outputs": [
        {
          "output_type": "stream",
          "name": "stdout",
          "text": [
            "(506, 13, 1)\n"
          ]
        }
      ]
    },
    {
      "cell_type": "code",
      "source": [
        "from sklearn.model_selection import train_test_split\n",
        "Xtrain,Xtest ,ytrain,ytest = train_test_split(x,y,test_size=0.2)"
      ],
      "metadata": {
        "id": "qia0Hhi0D74O"
      },
      "execution_count": 6,
      "outputs": []
    },
    {
      "cell_type": "code",
      "source": [
        "from tensorflow.keras import Sequential\n",
        "from tensorflow.keras.layers import Conv1D\n",
        "from tensorflow.keras.layers import Dense\n",
        "from tensorflow.keras.layers import Flatten\n"
      ],
      "metadata": {
        "id": "qaEtBwC1EylW"
      },
      "execution_count": 7,
      "outputs": []
    },
    {
      "cell_type": "markdown",
      "source": [
        "step 1 : Define the model"
      ],
      "metadata": {
        "id": "WMD7YRhzEnH8"
      }
    },
    {
      "cell_type": "code",
      "source": [
        "model = Sequential()\n",
        "model.add(Conv1D(32,2,activation='relu',input_shape=(13,1)))\n",
        "model.add(Flatten())\n",
        "model.add(Dense(64,activation='relu'))\n",
        "model.add(Dense(1))"
      ],
      "metadata": {
        "id": "To02iKo3EtMq"
      },
      "execution_count": 8,
      "outputs": []
    },
    {
      "cell_type": "markdown",
      "source": [
        "step2: compile the model"
      ],
      "metadata": {
        "id": "6V7-xjGwGIqy"
      }
    },
    {
      "cell_type": "code",
      "source": [
        "model.compile(loss='mse',optimizer='adam')"
      ],
      "metadata": {
        "id": "fb3NM0r9GNwP"
      },
      "execution_count": 9,
      "outputs": []
    },
    {
      "cell_type": "markdown",
      "source": [
        "step3: Fit the model"
      ],
      "metadata": {
        "id": "qpzmdZPvGY_c"
      }
    },
    {
      "cell_type": "code",
      "source": [
        "model.fit(Xtrain,ytrain,batch_size=10,epochs=200)"
      ],
      "metadata": {
        "colab": {
          "base_uri": "https://localhost:8080/"
        },
        "id": "ZLIVGP3UGd7c",
        "outputId": "5a8bd896-c683-49e1-b28d-e3df51873057"
      },
      "execution_count": 10,
      "outputs": [
        {
          "output_type": "stream",
          "name": "stdout",
          "text": [
            "Epoch 1/200\n",
            "41/41 [==============================] - 1s 2ms/step - loss: 99.3562\n",
            "Epoch 2/200\n",
            "41/41 [==============================] - 0s 2ms/step - loss: 85.9542\n",
            "Epoch 3/200\n",
            "41/41 [==============================] - 0s 2ms/step - loss: 71.1845\n",
            "Epoch 4/200\n",
            "41/41 [==============================] - 0s 2ms/step - loss: 63.6665\n",
            "Epoch 5/200\n",
            "41/41 [==============================] - 0s 2ms/step - loss: 79.6255\n",
            "Epoch 6/200\n",
            "41/41 [==============================] - 0s 2ms/step - loss: 78.2477\n",
            "Epoch 7/200\n",
            "41/41 [==============================] - 0s 2ms/step - loss: 66.4072\n",
            "Epoch 8/200\n",
            "41/41 [==============================] - 0s 2ms/step - loss: 68.6454\n",
            "Epoch 9/200\n",
            "41/41 [==============================] - 0s 2ms/step - loss: 61.0046\n",
            "Epoch 10/200\n",
            "41/41 [==============================] - 0s 2ms/step - loss: 50.8390\n",
            "Epoch 11/200\n",
            "41/41 [==============================] - 0s 2ms/step - loss: 51.9210\n",
            "Epoch 12/200\n",
            "41/41 [==============================] - 0s 2ms/step - loss: 50.2567\n",
            "Epoch 13/200\n",
            "41/41 [==============================] - 0s 2ms/step - loss: 41.7283\n",
            "Epoch 14/200\n",
            "41/41 [==============================] - 0s 2ms/step - loss: 47.8623\n",
            "Epoch 15/200\n",
            "41/41 [==============================] - 0s 2ms/step - loss: 52.0463\n",
            "Epoch 16/200\n",
            "41/41 [==============================] - 0s 2ms/step - loss: 40.4345\n",
            "Epoch 17/200\n",
            "41/41 [==============================] - 0s 2ms/step - loss: 39.3887\n",
            "Epoch 18/200\n",
            "41/41 [==============================] - 0s 2ms/step - loss: 45.4004\n",
            "Epoch 19/200\n",
            "41/41 [==============================] - 0s 2ms/step - loss: 61.5353\n",
            "Epoch 20/200\n",
            "41/41 [==============================] - 0s 2ms/step - loss: 57.2825\n",
            "Epoch 21/200\n",
            "41/41 [==============================] - 0s 2ms/step - loss: 43.8976\n",
            "Epoch 22/200\n",
            "41/41 [==============================] - 0s 2ms/step - loss: 40.2352\n",
            "Epoch 23/200\n",
            "41/41 [==============================] - 0s 2ms/step - loss: 35.2080\n",
            "Epoch 24/200\n",
            "41/41 [==============================] - 0s 2ms/step - loss: 32.7119\n",
            "Epoch 25/200\n",
            "41/41 [==============================] - 0s 2ms/step - loss: 31.9993\n",
            "Epoch 26/200\n",
            "41/41 [==============================] - 0s 2ms/step - loss: 32.4118\n",
            "Epoch 27/200\n",
            "41/41 [==============================] - 0s 2ms/step - loss: 35.9309\n",
            "Epoch 28/200\n",
            "41/41 [==============================] - 0s 2ms/step - loss: 30.9957\n",
            "Epoch 29/200\n",
            "41/41 [==============================] - 0s 2ms/step - loss: 30.2745\n",
            "Epoch 30/200\n",
            "41/41 [==============================] - 0s 2ms/step - loss: 27.6576\n",
            "Epoch 31/200\n",
            "41/41 [==============================] - 0s 2ms/step - loss: 27.4779\n",
            "Epoch 32/200\n",
            "41/41 [==============================] - 0s 2ms/step - loss: 31.9960\n",
            "Epoch 33/200\n",
            "41/41 [==============================] - 0s 2ms/step - loss: 28.6710\n",
            "Epoch 34/200\n",
            "41/41 [==============================] - 0s 2ms/step - loss: 27.2813\n",
            "Epoch 35/200\n",
            "41/41 [==============================] - 0s 2ms/step - loss: 29.9591\n",
            "Epoch 36/200\n",
            "41/41 [==============================] - 0s 2ms/step - loss: 29.1398\n",
            "Epoch 37/200\n",
            "41/41 [==============================] - 0s 2ms/step - loss: 25.9592\n",
            "Epoch 38/200\n",
            "41/41 [==============================] - 0s 2ms/step - loss: 30.3509\n",
            "Epoch 39/200\n",
            "41/41 [==============================] - 0s 2ms/step - loss: 35.7353\n",
            "Epoch 40/200\n",
            "41/41 [==============================] - 0s 2ms/step - loss: 43.2343\n",
            "Epoch 41/200\n",
            "41/41 [==============================] - 0s 2ms/step - loss: 36.1200\n",
            "Epoch 42/200\n",
            "41/41 [==============================] - 0s 2ms/step - loss: 27.9441\n",
            "Epoch 43/200\n",
            "41/41 [==============================] - 0s 2ms/step - loss: 28.6969\n",
            "Epoch 44/200\n",
            "41/41 [==============================] - 0s 2ms/step - loss: 25.6053\n",
            "Epoch 45/200\n",
            "41/41 [==============================] - 0s 2ms/step - loss: 27.7127\n",
            "Epoch 46/200\n",
            "41/41 [==============================] - 0s 2ms/step - loss: 31.6368\n",
            "Epoch 47/200\n",
            "41/41 [==============================] - 0s 2ms/step - loss: 28.2884\n",
            "Epoch 48/200\n",
            "41/41 [==============================] - 0s 2ms/step - loss: 25.5931\n",
            "Epoch 49/200\n",
            "41/41 [==============================] - 0s 2ms/step - loss: 24.6353\n",
            "Epoch 50/200\n",
            "41/41 [==============================] - 0s 2ms/step - loss: 29.2523\n",
            "Epoch 51/200\n",
            "41/41 [==============================] - 0s 2ms/step - loss: 23.7425\n",
            "Epoch 52/200\n",
            "41/41 [==============================] - 0s 2ms/step - loss: 23.0267\n",
            "Epoch 53/200\n",
            "41/41 [==============================] - 0s 2ms/step - loss: 25.9006\n",
            "Epoch 54/200\n",
            "41/41 [==============================] - 0s 2ms/step - loss: 26.6168\n",
            "Epoch 55/200\n",
            "41/41 [==============================] - 0s 2ms/step - loss: 26.8379\n",
            "Epoch 56/200\n",
            "41/41 [==============================] - 0s 2ms/step - loss: 27.5662\n",
            "Epoch 57/200\n",
            "41/41 [==============================] - 0s 2ms/step - loss: 22.6060\n",
            "Epoch 58/200\n",
            "41/41 [==============================] - 0s 2ms/step - loss: 24.7507\n",
            "Epoch 59/200\n",
            "41/41 [==============================] - 0s 2ms/step - loss: 27.1598\n",
            "Epoch 60/200\n",
            "41/41 [==============================] - 0s 2ms/step - loss: 23.4924\n",
            "Epoch 61/200\n",
            "41/41 [==============================] - 0s 2ms/step - loss: 21.0514\n",
            "Epoch 62/200\n",
            "41/41 [==============================] - 0s 2ms/step - loss: 31.1482\n",
            "Epoch 63/200\n",
            "41/41 [==============================] - 0s 2ms/step - loss: 26.1357\n",
            "Epoch 64/200\n",
            "41/41 [==============================] - 0s 2ms/step - loss: 22.2275\n",
            "Epoch 65/200\n",
            "41/41 [==============================] - 0s 2ms/step - loss: 22.6490\n",
            "Epoch 66/200\n",
            "41/41 [==============================] - 0s 2ms/step - loss: 23.5150\n",
            "Epoch 67/200\n",
            "41/41 [==============================] - 0s 2ms/step - loss: 21.5832\n",
            "Epoch 68/200\n",
            "41/41 [==============================] - 0s 2ms/step - loss: 24.1273\n",
            "Epoch 69/200\n",
            "41/41 [==============================] - 0s 2ms/step - loss: 24.4079\n",
            "Epoch 70/200\n",
            "41/41 [==============================] - 0s 2ms/step - loss: 20.2276\n",
            "Epoch 71/200\n",
            "41/41 [==============================] - 0s 2ms/step - loss: 23.6434\n",
            "Epoch 72/200\n",
            "41/41 [==============================] - 0s 2ms/step - loss: 22.8204\n",
            "Epoch 73/200\n",
            "41/41 [==============================] - 0s 2ms/step - loss: 21.3523\n",
            "Epoch 74/200\n",
            "41/41 [==============================] - 0s 2ms/step - loss: 22.9977\n",
            "Epoch 75/200\n",
            "41/41 [==============================] - 0s 2ms/step - loss: 22.0662\n",
            "Epoch 76/200\n",
            "41/41 [==============================] - 0s 2ms/step - loss: 21.8164\n",
            "Epoch 77/200\n",
            "41/41 [==============================] - 0s 2ms/step - loss: 22.8981\n",
            "Epoch 78/200\n",
            "41/41 [==============================] - 0s 2ms/step - loss: 25.4544\n",
            "Epoch 79/200\n",
            "41/41 [==============================] - 0s 2ms/step - loss: 27.6798\n",
            "Epoch 80/200\n",
            "41/41 [==============================] - 0s 2ms/step - loss: 21.0392\n",
            "Epoch 81/200\n",
            "41/41 [==============================] - 0s 2ms/step - loss: 21.5136\n",
            "Epoch 82/200\n",
            "41/41 [==============================] - 0s 2ms/step - loss: 24.3402\n",
            "Epoch 83/200\n",
            "41/41 [==============================] - 0s 2ms/step - loss: 20.0994\n",
            "Epoch 84/200\n",
            "41/41 [==============================] - 0s 2ms/step - loss: 21.1312\n",
            "Epoch 85/200\n",
            "41/41 [==============================] - 0s 2ms/step - loss: 26.1576\n",
            "Epoch 86/200\n",
            "41/41 [==============================] - 0s 2ms/step - loss: 18.6248\n",
            "Epoch 87/200\n",
            "41/41 [==============================] - 0s 2ms/step - loss: 19.3528\n",
            "Epoch 88/200\n",
            "41/41 [==============================] - 0s 2ms/step - loss: 20.1272\n",
            "Epoch 89/200\n",
            "41/41 [==============================] - 0s 2ms/step - loss: 24.3962\n",
            "Epoch 90/200\n",
            "41/41 [==============================] - 0s 2ms/step - loss: 25.9602\n",
            "Epoch 91/200\n",
            "41/41 [==============================] - 0s 2ms/step - loss: 20.8721\n",
            "Epoch 92/200\n",
            "41/41 [==============================] - 0s 2ms/step - loss: 20.3985\n",
            "Epoch 93/200\n",
            "41/41 [==============================] - 0s 2ms/step - loss: 28.8073\n",
            "Epoch 94/200\n",
            "41/41 [==============================] - 0s 2ms/step - loss: 19.2836\n",
            "Epoch 95/200\n",
            "41/41 [==============================] - 0s 2ms/step - loss: 31.9189\n",
            "Epoch 96/200\n",
            "41/41 [==============================] - 0s 2ms/step - loss: 21.4815\n",
            "Epoch 97/200\n",
            "41/41 [==============================] - 0s 2ms/step - loss: 18.2603\n",
            "Epoch 98/200\n",
            "41/41 [==============================] - 0s 2ms/step - loss: 21.9186\n",
            "Epoch 99/200\n",
            "41/41 [==============================] - 0s 2ms/step - loss: 21.5943\n",
            "Epoch 100/200\n",
            "41/41 [==============================] - 0s 2ms/step - loss: 17.9579\n",
            "Epoch 101/200\n",
            "41/41 [==============================] - 0s 2ms/step - loss: 17.2506\n",
            "Epoch 102/200\n",
            "41/41 [==============================] - 0s 2ms/step - loss: 17.8537\n",
            "Epoch 103/200\n",
            "41/41 [==============================] - 0s 2ms/step - loss: 18.8661\n",
            "Epoch 104/200\n",
            "41/41 [==============================] - 0s 2ms/step - loss: 17.7828\n",
            "Epoch 105/200\n",
            "41/41 [==============================] - 0s 2ms/step - loss: 21.8139\n",
            "Epoch 106/200\n",
            "41/41 [==============================] - 0s 2ms/step - loss: 23.9170\n",
            "Epoch 107/200\n",
            "41/41 [==============================] - 0s 2ms/step - loss: 19.1231\n",
            "Epoch 108/200\n",
            "41/41 [==============================] - 0s 2ms/step - loss: 20.8790\n",
            "Epoch 109/200\n",
            "41/41 [==============================] - 0s 2ms/step - loss: 17.1049\n",
            "Epoch 110/200\n",
            "41/41 [==============================] - 0s 2ms/step - loss: 21.3287\n",
            "Epoch 111/200\n",
            "41/41 [==============================] - 0s 2ms/step - loss: 18.1527\n",
            "Epoch 112/200\n",
            "41/41 [==============================] - 0s 2ms/step - loss: 20.0164\n",
            "Epoch 113/200\n",
            "41/41 [==============================] - 0s 2ms/step - loss: 20.5965\n",
            "Epoch 114/200\n",
            "41/41 [==============================] - 0s 2ms/step - loss: 18.0376\n",
            "Epoch 115/200\n",
            "41/41 [==============================] - 0s 2ms/step - loss: 17.5484\n",
            "Epoch 116/200\n",
            "41/41 [==============================] - 0s 2ms/step - loss: 17.0806\n",
            "Epoch 117/200\n",
            "41/41 [==============================] - 0s 2ms/step - loss: 24.9305\n",
            "Epoch 118/200\n",
            "41/41 [==============================] - 0s 2ms/step - loss: 31.0247\n",
            "Epoch 119/200\n",
            "41/41 [==============================] - 0s 2ms/step - loss: 20.0182\n",
            "Epoch 120/200\n",
            "41/41 [==============================] - 0s 2ms/step - loss: 20.5806\n",
            "Epoch 121/200\n",
            "41/41 [==============================] - 0s 2ms/step - loss: 18.3723\n",
            "Epoch 122/200\n",
            "41/41 [==============================] - 0s 2ms/step - loss: 19.9862\n",
            "Epoch 123/200\n",
            "41/41 [==============================] - 0s 2ms/step - loss: 17.0913\n",
            "Epoch 124/200\n",
            "41/41 [==============================] - 0s 2ms/step - loss: 18.1573\n",
            "Epoch 125/200\n",
            "41/41 [==============================] - 0s 2ms/step - loss: 16.4702\n",
            "Epoch 126/200\n",
            "41/41 [==============================] - 0s 2ms/step - loss: 17.3670\n",
            "Epoch 127/200\n",
            "41/41 [==============================] - 0s 2ms/step - loss: 18.1531\n",
            "Epoch 128/200\n",
            "41/41 [==============================] - 0s 2ms/step - loss: 16.8067\n",
            "Epoch 129/200\n",
            "41/41 [==============================] - 0s 2ms/step - loss: 18.1902\n",
            "Epoch 130/200\n",
            "41/41 [==============================] - 0s 2ms/step - loss: 16.9468\n",
            "Epoch 131/200\n",
            "41/41 [==============================] - 0s 2ms/step - loss: 16.3975\n",
            "Epoch 132/200\n",
            "41/41 [==============================] - 0s 2ms/step - loss: 15.2585\n",
            "Epoch 133/200\n",
            "41/41 [==============================] - 0s 2ms/step - loss: 17.3001\n",
            "Epoch 134/200\n",
            "41/41 [==============================] - 0s 2ms/step - loss: 15.3029\n",
            "Epoch 135/200\n",
            "41/41 [==============================] - 0s 2ms/step - loss: 21.6400\n",
            "Epoch 136/200\n",
            "41/41 [==============================] - 0s 2ms/step - loss: 17.0863\n",
            "Epoch 137/200\n",
            "41/41 [==============================] - 0s 2ms/step - loss: 17.5045\n",
            "Epoch 138/200\n",
            "41/41 [==============================] - 0s 2ms/step - loss: 16.7253\n",
            "Epoch 139/200\n",
            "41/41 [==============================] - 0s 2ms/step - loss: 17.1792\n",
            "Epoch 140/200\n",
            "41/41 [==============================] - 0s 2ms/step - loss: 15.0939\n",
            "Epoch 141/200\n",
            "41/41 [==============================] - 0s 2ms/step - loss: 15.9782\n",
            "Epoch 142/200\n",
            "41/41 [==============================] - 0s 2ms/step - loss: 18.9159\n",
            "Epoch 143/200\n",
            "41/41 [==============================] - 0s 2ms/step - loss: 16.1483\n",
            "Epoch 144/200\n",
            "41/41 [==============================] - 0s 2ms/step - loss: 23.6786\n",
            "Epoch 145/200\n",
            "41/41 [==============================] - 0s 2ms/step - loss: 17.2407\n",
            "Epoch 146/200\n",
            "41/41 [==============================] - 0s 2ms/step - loss: 16.2569\n",
            "Epoch 147/200\n",
            "41/41 [==============================] - 0s 2ms/step - loss: 16.0430\n",
            "Epoch 148/200\n",
            "41/41 [==============================] - 0s 2ms/step - loss: 14.6576\n",
            "Epoch 149/200\n",
            "41/41 [==============================] - 0s 2ms/step - loss: 16.7830\n",
            "Epoch 150/200\n",
            "41/41 [==============================] - 0s 2ms/step - loss: 18.7250\n",
            "Epoch 151/200\n",
            "41/41 [==============================] - 0s 2ms/step - loss: 18.5607\n",
            "Epoch 152/200\n",
            "41/41 [==============================] - 0s 2ms/step - loss: 15.8047\n",
            "Epoch 153/200\n",
            "41/41 [==============================] - 0s 2ms/step - loss: 15.1326\n",
            "Epoch 154/200\n",
            "41/41 [==============================] - 0s 2ms/step - loss: 14.7257\n",
            "Epoch 155/200\n",
            "41/41 [==============================] - 0s 2ms/step - loss: 15.8337\n",
            "Epoch 156/200\n",
            "41/41 [==============================] - 0s 2ms/step - loss: 15.8512\n",
            "Epoch 157/200\n",
            "41/41 [==============================] - 0s 2ms/step - loss: 18.4882\n",
            "Epoch 158/200\n",
            "41/41 [==============================] - 0s 2ms/step - loss: 13.9014\n",
            "Epoch 159/200\n",
            "41/41 [==============================] - 0s 2ms/step - loss: 14.6997\n",
            "Epoch 160/200\n",
            "41/41 [==============================] - 0s 2ms/step - loss: 15.0402\n",
            "Epoch 161/200\n",
            "41/41 [==============================] - 0s 2ms/step - loss: 14.0753\n",
            "Epoch 162/200\n",
            "41/41 [==============================] - 0s 2ms/step - loss: 14.9688\n",
            "Epoch 163/200\n",
            "41/41 [==============================] - 0s 2ms/step - loss: 14.8110\n",
            "Epoch 164/200\n",
            "41/41 [==============================] - 0s 2ms/step - loss: 14.3101\n",
            "Epoch 165/200\n",
            "41/41 [==============================] - 0s 2ms/step - loss: 15.1663\n",
            "Epoch 166/200\n",
            "41/41 [==============================] - 0s 2ms/step - loss: 15.5713\n",
            "Epoch 167/200\n",
            "41/41 [==============================] - 0s 2ms/step - loss: 15.3302\n",
            "Epoch 168/200\n",
            "41/41 [==============================] - 0s 2ms/step - loss: 16.1509\n",
            "Epoch 169/200\n",
            "41/41 [==============================] - 0s 2ms/step - loss: 16.1378\n",
            "Epoch 170/200\n",
            "41/41 [==============================] - 0s 2ms/step - loss: 14.8361\n",
            "Epoch 171/200\n",
            "41/41 [==============================] - 0s 2ms/step - loss: 16.9391\n",
            "Epoch 172/200\n",
            "41/41 [==============================] - 0s 2ms/step - loss: 15.3530\n",
            "Epoch 173/200\n",
            "41/41 [==============================] - 0s 2ms/step - loss: 15.3423\n",
            "Epoch 174/200\n",
            "41/41 [==============================] - 0s 2ms/step - loss: 13.8154\n",
            "Epoch 175/200\n",
            "41/41 [==============================] - 0s 2ms/step - loss: 16.9376\n",
            "Epoch 176/200\n",
            "41/41 [==============================] - 0s 2ms/step - loss: 15.1744\n",
            "Epoch 177/200\n",
            "41/41 [==============================] - 0s 2ms/step - loss: 18.2759\n",
            "Epoch 178/200\n",
            "41/41 [==============================] - 0s 2ms/step - loss: 14.4667\n",
            "Epoch 179/200\n",
            "41/41 [==============================] - 0s 2ms/step - loss: 14.4562\n",
            "Epoch 180/200\n",
            "41/41 [==============================] - 0s 2ms/step - loss: 14.3415\n",
            "Epoch 181/200\n",
            "41/41 [==============================] - 0s 2ms/step - loss: 14.9204\n",
            "Epoch 182/200\n",
            "41/41 [==============================] - 0s 2ms/step - loss: 13.6794\n",
            "Epoch 183/200\n",
            "41/41 [==============================] - 0s 2ms/step - loss: 15.6207\n",
            "Epoch 184/200\n",
            "41/41 [==============================] - 0s 2ms/step - loss: 16.3211\n",
            "Epoch 185/200\n",
            "41/41 [==============================] - 0s 2ms/step - loss: 14.7675\n",
            "Epoch 186/200\n",
            "41/41 [==============================] - 0s 2ms/step - loss: 15.1576\n",
            "Epoch 187/200\n",
            "41/41 [==============================] - 0s 2ms/step - loss: 16.0862\n",
            "Epoch 188/200\n",
            "41/41 [==============================] - 0s 2ms/step - loss: 16.3066\n",
            "Epoch 189/200\n",
            "41/41 [==============================] - 0s 2ms/step - loss: 14.3663\n",
            "Epoch 190/200\n",
            "41/41 [==============================] - 0s 2ms/step - loss: 14.4338\n",
            "Epoch 191/200\n",
            "41/41 [==============================] - 0s 2ms/step - loss: 16.4204\n",
            "Epoch 192/200\n",
            "41/41 [==============================] - 0s 2ms/step - loss: 13.3717\n",
            "Epoch 193/200\n",
            "41/41 [==============================] - 0s 2ms/step - loss: 13.4672\n",
            "Epoch 194/200\n",
            "41/41 [==============================] - 0s 2ms/step - loss: 15.0733\n",
            "Epoch 195/200\n",
            "41/41 [==============================] - 0s 2ms/step - loss: 13.7306\n",
            "Epoch 196/200\n",
            "41/41 [==============================] - 0s 2ms/step - loss: 15.1990\n",
            "Epoch 197/200\n",
            "41/41 [==============================] - 0s 2ms/step - loss: 12.7103\n",
            "Epoch 198/200\n",
            "41/41 [==============================] - 0s 2ms/step - loss: 16.2208\n",
            "Epoch 199/200\n",
            "41/41 [==============================] - 0s 2ms/step - loss: 13.0032\n",
            "Epoch 200/200\n",
            "41/41 [==============================] - 0s 2ms/step - loss: 14.1816\n"
          ]
        },
        {
          "output_type": "execute_result",
          "data": {
            "text/plain": [
              "<keras.callbacks.History at 0x7f562dfabcd0>"
            ]
          },
          "metadata": {},
          "execution_count": 10
        }
      ]
    },
    {
      "cell_type": "markdown",
      "source": [
        "step 4: Evalute the model"
      ],
      "metadata": {
        "id": "o3rhAgcFGzMr"
      }
    },
    {
      "cell_type": "code",
      "source": [
        "print(model.evaluate(Xtest,ytest))"
      ],
      "metadata": {
        "colab": {
          "base_uri": "https://localhost:8080/"
        },
        "id": "THSzXL7tG4Ru",
        "outputId": "00ff9846-973a-436e-e0cd-2099d206df16"
      },
      "execution_count": 11,
      "outputs": [
        {
          "output_type": "stream",
          "name": "stdout",
          "text": [
            "4/4 [==============================] - 0s 3ms/step - loss: 15.8964\n",
            "15.896384239196777\n"
          ]
        }
      ]
    },
    {
      "cell_type": "markdown",
      "source": [
        "step 5 : predict the model"
      ],
      "metadata": {
        "id": "WcKx6qKDHE0G"
      }
    },
    {
      "cell_type": "code",
      "source": [
        "ypred = model.predict(Xtest)"
      ],
      "metadata": {
        "id": "LGyO7rp7HNZ6"
      },
      "execution_count": 13,
      "outputs": []
    },
    {
      "cell_type": "code",
      "source": [
        "from sklearn.metrics import mean_squared_error\n",
        "print('MSE:%.4f '%mean_squared_error(ytest,ypred))"
      ],
      "metadata": {
        "colab": {
          "base_uri": "https://localhost:8080/"
        },
        "id": "PNffqtxIHhBJ",
        "outputId": "52e2564e-5d50-4748-bbc4-018257cd9d56"
      },
      "execution_count": 15,
      "outputs": [
        {
          "output_type": "stream",
          "name": "stdout",
          "text": [
            "MSE:15.8964 \n"
          ]
        }
      ]
    },
    {
      "cell_type": "markdown",
      "source": [
        "plot the results"
      ],
      "metadata": {
        "id": "X6YeJHDLIRsZ"
      }
    },
    {
      "cell_type": "code",
      "source": [
        "import matplotlib.pyplot as plt\n",
        "X_axis = range(len(ypred))\n",
        "plt.scatter(X_axis,ytest,color='blue',label='original')\n",
        "plt.plot(X_axis,ypred,color='red',label='predicted')\n",
        "plt.legend()\n",
        "plt.show()"
      ],
      "metadata": {
        "colab": {
          "base_uri": "https://localhost:8080/",
          "height": 265
        },
        "id": "kVtCmazuIUXk",
        "outputId": "1bb6da05-6725-4e3e-d405-f7164debfe5f"
      },
      "execution_count": 16,
      "outputs": [
        {
          "output_type": "display_data",
          "data": {
            "text/plain": [
              "<Figure size 432x288 with 1 Axes>"
            ],
            "image/png": "[encoded data removed]"
          },
          "metadata": {
            "needs_background": "light"
          }
        }
      ]
    }
  ]
}